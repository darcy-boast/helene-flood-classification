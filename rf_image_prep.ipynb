{
 "cells": [
  {
   "cell_type": "code",
   "execution_count": null,
   "id": "5973ce2b",
   "metadata": {},
   "outputs": [],
   "source": [
    "import os\n",
    "import rasterio as rio\n",
    "import rioxarray as rxr\n",
    "import xarray as xr\n",
    "import numpy as np\n",
    "from rasterio.transform import rowcol\n",
    "\n",
    "os.getcwd()"
   ]
  },
  {
   "cell_type": "code",
   "execution_count": null,
   "id": "68e88140",
   "metadata": {},
   "outputs": [],
   "source": [
    "raster_path = '' # Add path to imagery here"
   ]
  },
  {
   "cell_type": "code",
   "execution_count": null,
   "id": "dcc5c508",
   "metadata": {},
   "outputs": [],
   "source": [
    "# Read in PS image and check number of bands\n",
    "ps_bands = rio.open(raster_path)\n",
    "ps_stack = ps_bands.read()\n",
    "print(ps_stack.shape, ps_stack.dtype, type(ps_stack))\n",
    "print(ps_bands.crs)"
   ]
  },
  {
   "cell_type": "code",
   "execution_count": null,
   "id": "56edc80b",
   "metadata": {},
   "outputs": [],
   "source": [
    "# Open image\n",
    "image = rxr.open_rasterio(raster_path, masked=True)"
   ]
  },
  {
   "cell_type": "code",
   "execution_count": null,
   "id": "96cec8a4",
   "metadata": {},
   "outputs": [],
   "source": [
    "# # Clip image (optional)\n",
    "\n",
    "# transform = ps_bands.transform\n",
    "# width = ps_bands.width\n",
    "# height = ps_bands.height\n",
    "\n",
    "# xmin, ymin = 355937, 3936331\n",
    "# xmax, ymax = 363259, 3940707\n",
    "\n",
    "# # Top-left pixel\n",
    "# row_start, col_start = rowcol(transform, xmin, ymax)\n",
    "\n",
    "# # Bottom-right pixel\n",
    "# row_stop, col_stop = rowcol(transform, xmax, ymin)\n",
    "\n",
    "# image = image[:, row_start:row_stop, col_start:col_stop]"
   ]
  },
  {
   "cell_type": "code",
   "execution_count": null,
   "id": "c055e9a2",
   "metadata": {},
   "outputs": [],
   "source": [
    "# # Plot clipped image\n",
    "\n",
    "# import matplotlib.pyplot as plt\n",
    "# import earthpy.plot as ep\n",
    "\n",
    "# f, ax = plt.subplots(figsize=(15,10))\n",
    "\n",
    "# ep.plot_rgb(image.values,\n",
    "#             rgb=[3, 2, 1],\n",
    "#             ax=ax,\n",
    "#             title=\"False color image\",\n",
    "#             ) \n",
    "\n",
    "# plt.show()"
   ]
  },
  {
   "cell_type": "code",
   "execution_count": null,
   "id": "89423202",
   "metadata": {},
   "outputs": [],
   "source": [
    "# # Histogram to check band values (~11 min)\n",
    "\n",
    "# import matplotlib.pyplot as plt\n",
    "# import matplotlib.ticker as ticker\n",
    "\n",
    "# fig, axes = plt.subplots(ncols=4, nrows=1, figsize=(20,5))\n",
    "# ax = axes.ravel()\n",
    "\n",
    "# blue = image[0]\n",
    "# green = image[1]\n",
    "# red = image[2]\n",
    "# nir = image[3]\n",
    "\n",
    "# ax[0].hist(blue.values, bins=10)\n",
    "# ax[0].set_title('Blue Histogram')\n",
    "\n",
    "# ax[1].hist(green.values, bins=10)\n",
    "# ax[1].set_title('Green Histogram')\n",
    "\n",
    "# ax[2].hist(red.values, bins=10)\n",
    "# ax[2].set_title('Red Histogram')\n",
    "\n",
    "# ax[3].hist(nir.values, bins=10)\n",
    "# ax[3].set_title('NIR Histogram')"
   ]
  },
  {
   "cell_type": "code",
   "execution_count": null,
   "id": "e4b070d1",
   "metadata": {},
   "outputs": [],
   "source": [
    "# Adding Indices\n",
    "\n",
    "# NDWI = (GREEN - NIR) / (GREEN + NIR)        \n",
    "ndwi = (image[1] - image[3]) / (image[1] + image[3])\n",
    "\n",
    "# NDVI = (NIR - RED) / (NIR + RED)\n",
    "ndvi = (image[3] - image[2]) / (image[3] + image[2])\n",
    "\n",
    "# NISI = ( (BLUE + GREEN + RED) - NIR ) / ( (BLUE + GREEN + RED) + NIR )\n",
    "nisi = ((image[0] + image[1] + image[2]) - image[3]) / ((image[0] + image[1] + image[2]) + image[3])"
   ]
  },
  {
   "cell_type": "code",
   "execution_count": null,
   "id": "2727daaa",
   "metadata": {},
   "outputs": [],
   "source": [
    "# Stack indices onto bands\n",
    "index_stack = xr.concat([ndwi, ndvi, nisi], dim='band')\n",
    "\n",
    "PS_stack = xr.concat([\n",
    "    image[0:4],\n",
    "    index_stack.assign_coords({'band':['ndwi', 'ndvi', 'nisi']})\n",
    "],\n",
    "dim='band')\n",
    "\n",
    "PS_stack"
   ]
  },
  {
   "cell_type": "code",
   "execution_count": null,
   "id": "837339fc",
   "metadata": {},
   "outputs": [],
   "source": [
    "PS_stack.attrs['long_name'] = ('blue', 'green', 'red', 'nir', 'ndwi', 'ndvi', 'nisi')\n",
    "PS_stack"
   ]
  },
  {
   "cell_type": "code",
   "execution_count": null,
   "id": "1ac8761c",
   "metadata": {},
   "outputs": [],
   "source": [
    "# # Histogram to check indices values\n",
    "\n",
    "# import matplotlib.pyplot as plt\n",
    "# import matplotlib.ticker as ticker\n",
    "\n",
    "# fig, axes = plt.subplots(ncols=3, nrows=1, figsize=(14,5))\n",
    "# ax = axes.ravel()\n",
    "\n",
    "# blue = PS_stack[0]\n",
    "# green = PS_stack[1]\n",
    "# red = PS_stack[2]\n",
    "# nir = PS_stack[3]\n",
    "# ndwi = PS_stack[4]\n",
    "# ndvi = PS_stack[5]\n",
    "# nisi = PS_stack[6]\n",
    "\n",
    "# ax[0].hist(ndwi.values, bins=10)\n",
    "# ax[0].set_title('NDWI Histogram')\n",
    "\n",
    "# ax[1].hist(ndvi.values, bins=10)\n",
    "# ax[1].set_title('NDVI Histogram')\n",
    "\n",
    "# ax[2].hist(nisi.values, bins=10)\n",
    "# ax[2].set_title('NISI Histogram')\n",
    "\n",
    "# plt.show()"
   ]
  },
  {
   "cell_type": "code",
   "execution_count": null,
   "id": "91a1d35f",
   "metadata": {},
   "outputs": [],
   "source": [
    "PS_stack.astype('float32').rio.to_raster('', driver='GTiff') # Add path to export imagery here"
   ]
  }
 ],
 "metadata": {
  "kernelspec": {
   "display_name": "GIS495",
   "language": "python",
   "name": "python3"
  },
  "language_info": {
   "codemirror_mode": {
    "name": "ipython",
    "version": 3
   },
   "file_extension": ".py",
   "mimetype": "text/x-python",
   "name": "python",
   "nbconvert_exporter": "python",
   "pygments_lexer": "ipython3",
   "version": "3.12.5"
  }
 },
 "nbformat": 4,
 "nbformat_minor": 5
}
