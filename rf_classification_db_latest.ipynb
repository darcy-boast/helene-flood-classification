{
 "cells": [
  {
   "cell_type": "code",
   "execution_count": null,
   "id": "5f194a59",
   "metadata": {},
   "outputs": [],
   "source": [
    "# Import packages\n",
    "import geopandas as gpd\n",
    "import rasterio as rio\n",
    "from rasterio.plot import show\n",
    "import numpy as np\n",
    "import pandas as pd\n",
    "import matplotlib.pyplot as plt\n",
    "import rioxarray as rxr\n",
    "import xarray as xr\n",
    "import os\n",
    "\n",
    "from shapely.geometry import box\n",
    "from rasterio.features import rasterize\n",
    "from rasterio import features\n",
    "\n",
    "# navigate to directory\n",
    "os.getcwd()"
   ]
  },
  {
   "cell_type": "code",
   "execution_count": null,
   "id": "990ef42c",
   "metadata": {},
   "outputs": [],
   "source": [
    "# Training data path\n",
    "train_path = ''\n",
    "# Imagery path\n",
    "planet_path = ''"
   ]
  },
  {
   "cell_type": "code",
   "execution_count": null,
   "id": "8a5d648a",
   "metadata": {},
   "outputs": [],
   "source": [
    "# Read in training data\n",
    "shapefile = gpd.read_file(train_path)\n",
    "print(shapefile.crs)\n",
    "\n",
    "shapefile = shapefile.to_crs('EPSG:32617')\n",
    "print(shapefile.crs)"
   ]
  },
  {
   "cell_type": "code",
   "execution_count": null,
   "id": "3fd7ccc5",
   "metadata": {},
   "outputs": [],
   "source": [
    "# Read in raster\n",
    "with rio.open(planet_path) as src:\n",
    "    stack = src.read()\n",
    "    print(stack.shape, stack.dtype)\n",
    "    print(src.crs)"
   ]
  },
  {
   "cell_type": "code",
   "execution_count": null,
   "id": "eca8acf2",
   "metadata": {},
   "outputs": [],
   "source": [
    "# rasterize the training data\n",
    "\n",
    "# Rasterize vector using the shape and coordinate system of the raster\n",
    "rasterized = features.rasterize([(geom, value) for geom, value in zip(shapefile.geometry, shapefile['class'])],\n",
    "                                out_shape = src.shape,\n",
    "                                fill = -99,\n",
    "                                out = None,\n",
    "                                transform = src.transform,\n",
    "                                all_touched = False,\n",
    "                                #default_value = 1,\n",
    "                                #nodata = 99,\n",
    "                                dtype = np.int8) # options np.uint8 or 'int8'\n",
    "\n",
    "# Plot training data raster\n",
    "fig, ax = plt.subplots(1, figsize = (10, 10))\n",
    "show(rasterized, ax = ax)\n",
    "plt.gca().invert_yaxis()\n",
    "\n",
    "unique_elements, counts = np.unique(rasterized, return_counts=True)\n",
    "print(unique_elements) # Output: [1 2 3 4]\n",
    "print(counts) # Output: [1 2 1 3]"
   ]
  },
  {
   "cell_type": "code",
   "execution_count": null,
   "id": "0e54980e",
   "metadata": {},
   "outputs": [],
   "source": [
    "# turn the input data into an array\n",
    "# > 7 min\n",
    "img = np.zeros((src.height, src.width, src.count), dtype=src.dtypes[0])  # Initialize array for all bands\n",
    "\n",
    "# use np.fill\n",
    "img = np.full((src.height, src.width, src.count), fill_value=-99, dtype=src.dtypes[0])\n",
    "\n",
    "# extract the raster values within the polygon \n",
    "with rio.open(planet_path) as src:\n",
    "    for b in range(src.count):\n",
    "        img[:, :, b] = src.read(b + 1)\n",
    "\n",
    "# Open the ROI dataset\n",
    "roi=rasterized.astype(np.int8)"
   ]
  },
  {
   "cell_type": "code",
   "execution_count": null,
   "id": "8dcc7b77",
   "metadata": {},
   "outputs": [],
   "source": [
    "# Find how many non-zero entries we have -- i.e. how many training data samples?\n",
    "n_samples = (roi >= 0).sum()\n",
    "print('We have {n} samples'.format(n=n_samples))\n",
    "\n",
    "# What are our classification labels?\n",
    "labels = np.unique(roi[roi >= 0])\n",
    "print('The training data include {n} classes: {classes}'.format(n=labels.size, \n",
    "                                                                classes=labels))\n",
    "# We will need a \"X\" matrix containing our features, and a \"y\" array containing our labels\n",
    "#     These will have n_samples rows\n",
    "#     In other languages we would need to allocate these and them loop to fill them, but NumPy can be faster\n",
    "\n",
    "\n",
    "X = img[roi >= 0, :]  # Select all values of img where roi is greater than 0\n",
    "y = roi[roi >= 0 ] # Select all values of roi where roi is greater than 0\n",
    "\n",
    "print('Our X matrix is sized: {sz}'.format(sz=X.shape))\n",
    "print('Our y array is sized: {sz}'.format(sz=y.shape))\n",
    "\n",
    "# Mask out bad pixels in planet data\n",
    "# clear = X[:, 4] <= 1 # Return a boolean with true where values in band 5 are less than 1 \n",
    "\n",
    "# X = X[clear, :4]  # get rid of band 5 (0:3), keep the first four columns\n",
    "# y = y[clear]\n",
    "\n",
    "# X = np.nan_to_num(X, nan=-99) # UNCOMMENT FOR GEE INPUTS\n",
    "\n",
    "# print('After masking, our X matrix is sized: {sz}'.format(sz=X.shape))\n",
    "# print('After masking, our y array is sized: {sz}'.format(sz=y.shape))"
   ]
  },
  {
   "cell_type": "code",
   "execution_count": null,
   "id": "f5c0b9fe",
   "metadata": {},
   "outputs": [],
   "source": [
    "unique_elements, counts = np.unique(y, return_counts=True)\n",
    "print(unique_elements) \n",
    "print(counts) "
   ]
  },
  {
   "cell_type": "code",
   "execution_count": null,
   "id": "f233fac6",
   "metadata": {},
   "outputs": [],
   "source": [
    "# Using Skicit-learn to split data into training and testing sets\n",
    "from sklearn.model_selection import train_test_split\n",
    "\n",
    "# Split the data into training and testing sets\n",
    "# test_size = 0.25 >> i.e. 25% of the data; represents the proportion of the dataset to include in the test split\n",
    "train_features, test_features, train_labels, test_labels = train_test_split(X, y, \n",
    "                                                                            test_size = 0.2, \n",
    "                                                                            random_state = 12) \n",
    "                                                                            #stratify=y) \n",
    "\n",
    "\n",
    "# print things and check stuff out\n",
    "unique_elements, counts = np.unique(train_labels, return_counts=True)\n",
    "print(unique_elements) # Output: [1 2 3 4]\n",
    "print(counts) # Output: [1 2 1 3]\n",
    "\n",
    "print('Training Features Shape:', train_features.shape)\n",
    "print('Training Labels Shape:', train_labels.shape)\n",
    "print('Testing Features Shape:', test_features.shape)\n",
    "print('Testing Labels Shape:', test_labels.shape)"
   ]
  },
  {
   "cell_type": "code",
   "execution_count": null,
   "id": "b092ed85",
   "metadata": {},
   "outputs": [],
   "source": [
    "from sklearn.ensemble import RandomForestClassifier\n",
    "\n",
    "# Initialize our model with 500 trees\n",
    "rf = RandomForestClassifier(n_estimators=100, oob_score=True)\n",
    "\n",
    "rf = rf.fit(train_features, train_labels)"
   ]
  },
  {
   "cell_type": "code",
   "execution_count": null,
   "id": "3566eaba",
   "metadata": {},
   "outputs": [],
   "source": [
    "# preview accuracy\n",
    "# Confusion Matrix\n",
    "from sklearn.metrics import confusion_matrix\n",
    "\n",
    "# Predicting the Test set results\n",
    "y_train = rf.predict(train_features) \n",
    "print(confusion_matrix(train_labels, y_train))"
   ]
  },
  {
   "cell_type": "code",
   "execution_count": null,
   "id": "7a05a230",
   "metadata": {},
   "outputs": [],
   "source": [
    "# preview accuracy\n",
    "# Confusion Matrix\n",
    "from sklearn.metrics import confusion_matrix\n",
    "\n",
    "# Predicting the Test set results\n",
    "y_pred = rf.predict(test_features) \n",
    "print(confusion_matrix(test_labels, y_pred))\n",
    "\n",
    "# Classificaton Report \n",
    "from sklearn.metrics import classification_report\n",
    "print(classification_report(test_labels, y_pred, digits=4))"
   ]
  },
  {
   "cell_type": "code",
   "execution_count": null,
   "id": "bf0485f4",
   "metadata": {},
   "outputs": [],
   "source": [
    "# Take our full image and reshape into long 2d array (nrow * ncol, nband) for classification\n",
    "new_shape = (img.shape[0] * img.shape[1], img.shape[2])\n",
    "img_as_array = img[:, :, :np.int8(img.shape[2])].reshape(new_shape)\n",
    "\n",
    "print('Reshaped from {o} to {n}'.format(o=img.shape, n=img_as_array.shape))\n",
    "\n",
    "img_as_array = np.nan_to_num(img_as_array)"
   ]
  },
  {
   "cell_type": "code",
   "execution_count": null,
   "id": "76c8381a",
   "metadata": {},
   "outputs": [],
   "source": [
    "# Now predict for each pixel\n",
    "# >10min\n",
    "class_prediction = rf.predict(img_as_array)"
   ]
  },
  {
   "cell_type": "code",
   "execution_count": null,
   "id": "84468364",
   "metadata": {},
   "outputs": [],
   "source": [
    "class_prediction = class_prediction.reshape(img[:, :, 0].shape)\n",
    "print('Reshaped back to {}'.format(class_prediction.shape))"
   ]
  },
  {
   "cell_type": "code",
   "execution_count": null,
   "id": "c7cdf8bf",
   "metadata": {},
   "outputs": [],
   "source": [
    "plt.subplot(111)\n",
    "plt.imshow(class_prediction, cmap=plt.cm.Spectral)\n",
    "plt.title('Classification result')"
   ]
  },
  {
   "cell_type": "code",
   "execution_count": null,
   "id": "4cd9cc16",
   "metadata": {},
   "outputs": [],
   "source": [
    "# define function to stretch the color for better viz\n",
    "def color_stretch(image, index):\n",
    "    colors = image[:, :, index].astype(np.float64)\n",
    "    for b in range(colors.shape[2]):\n",
    "        colors[:, :, b] = rio.plot.adjust_band(colors[:, :, b])\n",
    "    return colors"
   ]
  },
  {
   "cell_type": "code",
   "execution_count": null,
   "id": "26689843",
   "metadata": {},
   "outputs": [],
   "source": [
    "from rasterio.plot import reshape_as_image\n",
    "reshaped_ps_stack = reshape_as_image(stack)\n",
    "print(reshaped_ps_stack.shape, type(reshaped_ps_stack))\n",
    "\n",
    "from matplotlib.colors import ListedColormap\n",
    "import matplotlib.patches as mpatches\n",
    "\n",
    "# Create colormap\n",
    "colors = [\n",
    "    [0.5, 0, 0.5],    # purple (class 0 = nonwater)\n",
    "    [1, 1, 0]         # yellow (class 1 = water)\n",
    "]\n",
    "\n",
    "class_names = ['Non-water', 'Water']\n",
    "\n",
    "cmap = ListedColormap(colors)\n",
    "patches = [mpatches.Patch(color=colors[i], label=class_names[i]) for i in range(len(class_names))]\n",
    "\n",
    "fig, axs = plt.subplots(1, 2, figsize=(20, 20))\n",
    "\n",
    "img = reshaped_ps_stack.astype('float16')\n",
    "img_stretched = color_stretch(img, [3,2,1])\n",
    "axs[0].imshow(img_stretched)\n",
    "axs[0].set_title(\"False Color Image\")\n",
    "\n",
    "axs[1].imshow(class_prediction, cmap=cmap)\n",
    "axs[1].set_title(\"Class Prediction\")\n",
    "\n",
    "axs[1].legend(handles=patches, loc='lower right', fontsize=12)"
   ]
  },
  {
   "cell_type": "code",
   "execution_count": null,
   "id": "101824d0",
   "metadata": {},
   "outputs": [],
   "source": [
    "ref = rxr.open_rasterio(planet_path)\n",
    "class_da = xr.DataArray(class_prediction, dims=(\"y\", \"x\"))\n",
    "\n",
    "# Copy metadata from reference\n",
    "class_da = class_da.rio.write_crs(ref.rio.crs, inplace=True)\n",
    "class_da = class_da.rio.write_transform(ref.rio.transform(), inplace=True)\n",
    "class_da = class_da.rio.set_spatial_dims(x_dim=ref.rio.x_dim, y_dim=ref.rio.y_dim, inplace=True)\n",
    "\n",
    "class_da.astype('float32').rio.to_raster('', driver='GTiff')"
   ]
  }
 ],
 "metadata": {
  "kernelspec": {
   "display_name": "GIS495",
   "language": "python",
   "name": "python3"
  },
  "language_info": {
   "codemirror_mode": {
    "name": "ipython",
    "version": 3
   },
   "file_extension": ".py",
   "mimetype": "text/x-python",
   "name": "python",
   "nbconvert_exporter": "python",
   "pygments_lexer": "ipython3",
   "version": "3.12.5"
  }
 },
 "nbformat": 4,
 "nbformat_minor": 5
}
